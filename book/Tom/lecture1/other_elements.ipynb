{
 "cells": [
  {
   "cell_type": "markdown",
   "metadata": {
    "vscode": {
     "languageId": "plaintext"
    }
   },
   "source": [
    "# Local stiffness matrix Euler-Bernoulli element\n",
    "\n",
    "```{custom_download_link} other_elements.md\n",
    ":text: \".md:myst\"\n",
    ":replace_default: \"False\"\n",
    "```\n",
    "\n",
    "In [](./single_element.md) and [](./matrix.md) you've seen how to derive the local stiffness matrix for a simple extension element. But can you do the same for other elements?\n",
    "\n",
    "\n",
    "::::::{topic} Learning objective\n",
    "You'll look into deriving the local stiffness matrix for the Euler-Bernoulli element.\n",
    "::::::\n",
    "\n",
    "Previously, the local stiffness matrix for a simple extension element was found as:\n",
    "\n",
    "$$\\mathbf{K}^{(e)} = \\cfrac{EA}{\\ell}\\begin{bmatrix} 1&-1\\\\-1&1 \\end{bmatrix}$$\n",
    "\n",
    "The same procedure can be followed for other element, like a combined extension and Euler-Bernoulli element:\n",
    "\n",
    "```{figure} elemtypes.svg\n",
    ":name: elemtypes\n",
    ":align: center\n",
    "\n",
    "Combined extension and Euler-Bernoulli element\n",
    "```\n",
    "\n",
    "The amount of degrees of freedom increases, as both ends of the element can translate in two directions and rotate. However, the approach is exactly the same, leading to the following element stiffness matrix:\n",
    "\n",
    "$$\n",
    "\t\\mathbf{K}^{(e)} = \\begin{bmatrix}\n",
    "\t  \\cfrac{EA}{\\ell} & 0 & 0 & -\\cfrac{EA}{\\ell} & 0 & 0\\\\\n",
    "\t  0 & \\cfrac{12EI}{\\ell^3} & -\\cfrac{6EI}{\\ell^2} & 0 & -\\cfrac{12EI}{\\ell^3} & -\\cfrac{6EI}{\\ell^2}\\\\\n",
    "\t  0 & -\\cfrac{6EI}{\\ell^2} & \\cfrac{4EI}{\\ell} & 0 & \\cfrac{6EI}{\\ell^2} & \\cfrac{2EI}{\\ell}\\\\\n",
    "\t  -\\cfrac{EA}{\\ell} & 0 & 0 & \\cfrac{EA}{\\ell} & 0 & 0\\\\\n",
    "\t  0 & -\\cfrac{12EI}{\\ell^3} & \\cfrac{6EI}{\\ell^2} & 0 & \\cfrac{12EI}{\\ell^3} & \\cfrac{6EI}{\\ell^2}\\\\\n",
    "\t  0 & -\\cfrac{6EI}{\\ell^2} & \\cfrac{2EI}{\\ell} & 0 & \\cfrac{6EI}{\\ell^2} & \\cfrac{4EI}{\\ell}\\\\\n",
    "\t\\end{bmatrix}$$\n",
    "\n",
    "for\n",
    "\n",
    "$$\n",
    "  \\mathbf{u}^{(e)} =\\begin{bmatrix}\n",
    "\t  u_1\\\\\n",
    "\t  w_1 \\\\\n",
    "\t  \\varphi_1 \\\\\n",
    "\t  u_2 \\\\\n",
    "\t  w_2\\\\\n",
    "\t  \\varphi_2\\\\\n",
    "\t\\end{bmatrix} \n",
    "\t$$\n",
    "\n",
    "## Derivation using SymPy\n",
    "We can make use of software like SymPy, as we did before in [](sympy-ode) to do the calculations in this derivation:"
   ]
  },
  {
   "cell_type": "code",
   "execution_count": null,
   "metadata": {
    "tags": [
     "thebe-remove-input-init"
    ]
   },
   "outputs": [],
   "source": [
    "import sympy as sym\n",
    "sym.init_printing()"
   ]
  },
  {
   "cell_type": "code",
   "execution_count": 1,
   "metadata": {},
   "outputs": [],
   "source": [
    "import sympy as sym"
   ]
  },
  {
   "cell_type": "code",
   "execution_count": 2,
   "metadata": {},
   "outputs": [
    {
     "data": {
      "text/latex": [
       "$\\displaystyle EI \\frac{d^{4}}{d x^{4}} w{\\left(x \\right)} = 0$"
      ],
      "text/plain": [
       "Eq(EI*Derivative(w(x), (x, 4)), 0)"
      ]
     },
     "metadata": {},
     "output_type": "display_data"
    }
   ],
   "source": [
    "EI, x, L = sym.symbols('EI, x, L')\n",
    "w = sym.Function('w')\n",
    "\n",
    "ODE_bending = sym.Eq(w(x).diff(x, 4) * EI, 0)\n",
    "display(ODE_bending)"
   ]
  },
  {
   "cell_type": "code",
   "execution_count": 3,
   "metadata": {},
   "outputs": [
    {
     "data": {
      "text/latex": [
       "$\\displaystyle C_{1} + C_{2} x + C_{3} x^{2} + C_{4} x^{3}$"
      ],
      "text/plain": [
       "C1 + C2*x + C3*x**2 + C4*x**3"
      ]
     },
     "metadata": {},
     "output_type": "display_data"
    }
   ],
   "source": [
    "w = sym.dsolve(ODE_bending, w(x)).rhs\n",
    "display(w)"
   ]
  },
  {
   "cell_type": "code",
   "execution_count": 4,
   "metadata": {},
   "outputs": [],
   "source": [
    "phi = -w.diff(x)\n",
    "kappa = phi.diff(x)\n",
    "M = EI * kappa\n",
    "V = M.diff(x)"
   ]
  },
  {
   "cell_type": "code",
   "execution_count": 5,
   "metadata": {},
   "outputs": [
    {
     "data": {
      "text/latex": [
       "$\\displaystyle C_{1} = w_{1}$"
      ],
      "text/plain": [
       "Eq(C1, w_1)"
      ]
     },
     "metadata": {},
     "output_type": "display_data"
    },
    {
     "data": {
      "text/latex": [
       "$\\displaystyle C_{2} = - \\phi_{1}$"
      ],
      "text/plain": [
       "Eq(C2, -phi_1)"
      ]
     },
     "metadata": {},
     "output_type": "display_data"
    },
    {
     "data": {
      "text/latex": [
       "$\\displaystyle C_{3} = \\frac{2 L \\phi_{1} + L \\phi_{2} - 3 w_{1} + 3 w_{2}}{L^{2}}$"
      ],
      "text/plain": [
       "Eq(C3, (2*L*phi_1 + L*phi_2 - 3*w_1 + 3*w_2)/L**2)"
      ]
     },
     "metadata": {},
     "output_type": "display_data"
    },
    {
     "data": {
      "text/latex": [
       "$\\displaystyle C_{4} = \\frac{- L \\phi_{1} - L \\phi_{2} + 2 w_{1} - 2 w_{2}}{L^{3}}$"
      ],
      "text/plain": [
       "Eq(C4, (-L*phi_1 - L*phi_2 + 2*w_1 - 2*w_2)/L**3)"
      ]
     },
     "metadata": {},
     "output_type": "display_data"
    }
   ],
   "source": [
    "w_1, w_2, phi_1, phi_2 = sym.symbols('w_1, w_2, phi_1, phi_2')\n",
    "\n",
    "eq1 = sym.Eq(w.subs(x,0),w_1)\n",
    "eq2 = sym.Eq(w.subs(x,L),w_2)\n",
    "eq3 = sym.Eq(phi.subs(x,0),phi_1)\n",
    "eq4 = sym.Eq(phi.subs(x,L),phi_2)\n",
    "\n",
    "sol = sym.solve([eq1, eq2, eq3, eq4 ], sym.symbols('C1, C2, C3, C4'))\n",
    "for key in sol:\n",
    "    display(sym.Eq(key, sol[key]))"
   ]
  },
  {
   "cell_type": "code",
   "execution_count": 6,
   "metadata": {},
   "outputs": [],
   "source": [
    "F_1_z, F_2_z, T_1_y, T_2_y = sym.symbols('F_1_z, F_2_z, T_1_y, T_2_y')\n",
    "\n",
    "eq5 = sym.Eq(-V.subs(sol).subs(x,0), F_1_z)\n",
    "eq6 = sym.Eq(V.subs(sol).subs(x,L), F_2_z)\n",
    "eq7 = sym.Eq(-M.subs(sol).subs(x,0), T_1_y)\n",
    "eq8 = sym.Eq(M.subs(sol).subs(x,L), T_2_y)"
   ]
  },
  {
   "cell_type": "code",
   "execution_count": 7,
   "metadata": {},
   "outputs": [
    {
     "data": {
      "text/latex": [
       "$\\displaystyle \\left[\\begin{matrix}\\frac{12 EI}{L^{3}} & - \\frac{6 EI}{L^{2}} & - \\frac{12 EI}{L^{3}} & - \\frac{6 EI}{L^{2}}\\\\- \\frac{6 EI}{L^{2}} & \\frac{4 EI}{L} & \\frac{6 EI}{L^{2}} & \\frac{2 EI}{L}\\\\- \\frac{12 EI}{L^{3}} & \\frac{6 EI}{L^{2}} & \\frac{12 EI}{L^{3}} & \\frac{6 EI}{L^{2}}\\\\- \\frac{6 EI}{L^{2}} & \\frac{2 EI}{L} & \\frac{6 EI}{L^{2}} & \\frac{4 EI}{L}\\end{matrix}\\right]$"
      ],
      "text/plain": [
       "Matrix([\n",
       "[ 12*EI/L**3, -6*EI/L**2, -12*EI/L**3, -6*EI/L**2],\n",
       "[ -6*EI/L**2,     4*EI/L,   6*EI/L**2,     2*EI/L],\n",
       "[-12*EI/L**3,  6*EI/L**2,  12*EI/L**3,  6*EI/L**2],\n",
       "[ -6*EI/L**2,     2*EI/L,   6*EI/L**2,     4*EI/L]])"
      ]
     },
     "metadata": {},
     "output_type": "display_data"
    }
   ],
   "source": [
    "K_e, f_e = sym.linear_eq_to_matrix([eq5,eq7, eq6, eq8], [w_1, phi_1, w_2, phi_2])\n",
    "display(K_e)"
   ]
  },
  {
   "cell_type": "markdown",
   "metadata": {},
   "source": [
    "To use the stiffness matrix without manually copying it over, you can make use of the `lambdify` which converts a symbolic SymPy object in a python function. This allows you to evaluate it for specific numerical values and continue using it in the numerical framework of the matrix method."
   ]
  },
  {
   "cell_type": "code",
   "execution_count": 8,
   "metadata": {},
   "outputs": [
    {
     "name": "stdout",
     "output_type": "stream",
     "text": [
      "Created with lambdify. Signature:\n",
      "\n",
      "func(L, EI)\n",
      "\n",
      "Expression:\n",
      "\n",
      "Matrix([[12*EI/L**3, -6*EI/L**2, -12*EI/L**3, -6*EI/L**2], [-6*EI/L**2,...\n",
      "\n",
      "Source code:\n",
      "\n",
      "def _lambdifygenerated(L, EI):\n",
      "    return array([[12*EI/L**3, -6*EI/L**2, -12*EI/L**3, -6*EI/L**2], [-6*EI/L**2, 4*EI/L, 6*EI/L**2, 2*EI/L], [-12*EI/L**3, 6*EI/L**2, 12*EI/L**3, 6*EI/L**2], [-6*EI/L**2, 2*EI/L, 6*EI/L**2, 4*EI/L]])\n",
      "\n",
      "\n",
      "Imported modules:\n",
      "\n",
      "\n"
     ]
    }
   ],
   "source": [
    "K = sym.lambdify((L, EI), K_e)\n",
    "print(K.__doc__)"
   ]
  },
  {
   "cell_type": "code",
   "execution_count": 12,
   "metadata": {},
   "outputs": [
    {
     "name": "stdout",
     "output_type": "stream",
     "text": [
      "Example of K with L=5 and EI=1000:\n",
      " [[  96. -240.  -96. -240.]\n",
      " [-240.  800.  240.  400.]\n",
      " [ -96.  240.   96.  240.]\n",
      " [-240.  400.  240.  800.]]\n"
     ]
    }
   ],
   "source": [
    "print('Example of K with L=5 and EI=1000:\\n',K(5,1000))"
   ]
  }
 ],
 "metadata": {
  "kernelspec": {
   "display_name": "base",
   "language": "python",
   "name": "python3"
  },
  "language_info": {
   "codemirror_mode": {
    "name": "ipython",
    "version": 3
   },
   "file_extension": ".py",
   "mimetype": "text/x-python",
   "name": "python",
   "nbconvert_exporter": "python",
   "pygments_lexer": "ipython3",
   "version": "3.9.18"
  }
 },
 "nbformat": 4,
 "nbformat_minor": 2
}
