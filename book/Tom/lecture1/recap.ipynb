{
 "cells": [
  {
   "cell_type": "markdown",
   "metadata": {},
   "source": [
    "# Recap differential equations for structures\n",
    "\n",
    "```{custom_download_link} recap.md\n",
    ":text: \".md:myst\"\n",
    ":replace_default: \"False\"\n",
    "```\n",
    "\n",
    "Let's recap how to solve a structure using differential equations.\n",
    "\n",
    "::::::{topic} Learning objective\n",
    "We'll investigate the differences between solving structures with differential equations and the matrix method. Furthermore, you'll need differential equations in the matrix method itself to define some default elements. \n",
    "::::::\n",
    "\n",
    "Given is a cantilever beam with a distributed load:\n",
    "\n",
    "```{figure} bending1field.svg\n",
    ":name: bending1field\n",
    ":align: center\n",
    "\n",
    "Cantilever beam with distributed load\n",
    "```\n",
    "\n",
    "The differential equation for the Euler-Bernoulli model can be derived leading to:\n",
    "- Kinematic relations:\n",
    "  - $\\varphi=-\\cfrac{\\mrm{d}w}{\\mrm{d}x}$\n",
    "  - $\\kappa=\\cfrac{\\mrm{d}\\varphi}{\\mrm{d}x}$\n",
    "- Constitutive relation:\n",
    "  - $M=EI\\kappa$\n",
    "- Equilibrium relations:\n",
    "  - $\\cfrac{\\mrm{d}V}{\\mrm{d}x}=-q$\n",
    "  - $\\cfrac{\\mrm{d}M}{\\mrm{d}x}=V$\n",
    "\n",
    "These relations can be combined into one fourth order differential equation:\n",
    "\n",
    "$$ EI\\frac{\\mrm{d}^4w}{\\mrm{d}x^4}=q $$"
   ]
  },
  {
   "cell_type": "markdown",
   "metadata": {},
   "source": [
    "This differential equation can be solved directly to solve structures."
   ]
  },
  {
   "cell_type": "markdown",
   "metadata": {},
   "source": [
    "## Solving differential equation of one field by hand\n",
    "\n",
    "This differential equations can be solved by integrating:\n",
    "\n",
    "- $V(x) = -qx + \\bar C_{1}$\n",
    "- $M(x) = -\\cfrac{qx^2}{2} + \\bar C_1 x + \\bar C_2$\n",
    "- $\\kappa(x) = -\\cfrac{qx^2}{2EI}+ \\tilde C_1 x + \\tilde C_2$\n",
    "- $\\varphi(x) = -\\cfrac{qx^3}{6EI} + \\cfrac{\\tilde C_1x^2}{2} + \\tilde C_2 x+ \\tilde C_3$\n",
    "- $w(x) = \\cfrac{qx^4}{24EI} + \\cfrac{C_1x^3}{6} + \\cfrac{C_2x^2}{2}+C_3x+C_4 $\n",
    "\n",
    "The boundary conditions follow from the clamped side at $x=0$ and free end at $x=\\ell$:\n",
    "\n",
    "- $w(0) = 0$\n",
    "- $\\varphi(0) = 0$\n",
    "- $\tM(\\ell) = 0$\n",
    "- $\tV(\\ell) = 0$\n",
    "\n",
    "Solving these four equations for the integration constants gives:\n",
    "\n",
    "- $C_1 = -\\cfrac{q\\ell}{EI}$\n",
    "- $C_2 = \\cfrac{q\\ell^2}{2EI}$\n",
    "- $C_3 = 0$\n",
    "- $C_4 = 0$\n",
    "\n",
    "Substituting these constants, a final solution for $w$ can be found:\n",
    "\n",
    "$w(x) = \\cfrac{qx^4}{24EI} - \\cfrac{q\\ell x^3}{6EI} + \\cfrac{q\\ell^2x^2}{4EI}$"
   ]
  },
  {
   "cell_type": "markdown",
   "metadata": {},
   "source": [
    "(sympy-ode)=\n",
    "## Solving differential equation of one field using SymPy\n",
    "\n",
    "The differential equation can also be solved using SymPy:"
   ]
  },
  {
   "cell_type": "code",
   "execution_count": null,
   "metadata": {
    "tags": [
     "thebe-remove-input-init"
    ]
   },
   "outputs": [],
   "source": [
    "import sympy as sym\n",
    "sym.init_printing()"
   ]
  },
  {
   "cell_type": "code",
   "execution_count": 1,
   "id": "23e84741",
   "metadata": {},
   "outputs": [],
   "source": [
    "import sympy as sym"
   ]
  },
  {
   "cell_type": "code",
   "execution_count": 6,
   "id": "b7858efb",
   "metadata": {},
   "outputs": [],
   "source": [
    "EI, q, x, L = sym.symbols('EI, q, x, ell')\n",
    "C_1, C_2, C_3, C_4 = sym.symbols('C_1, C_2, C_3, C_4')"
   ]
  },
  {
   "cell_type": "code",
   "execution_count": 7,
   "id": "c81e6706",
   "metadata": {},
   "outputs": [
    {
     "data": {
      "text/latex": [
       "$\\displaystyle - \\frac{C_{1} x^{3}}{6 EI} - \\frac{C_{2} x^{2}}{2 EI} - C_{3} x + C_{4} + \\frac{q x^{4}}{24 EI}$"
      ],
      "text/plain": [
       "-C_1*x**3/(6*EI) - C_2*x**2/(2*EI) - C_3*x + C_4 + q*x**4/(24*EI)"
      ]
     },
     "metadata": {},
     "output_type": "display_data"
    }
   ],
   "source": [
    "V = -sym.integrate(q,x) + C_1\n",
    "M = sym.integrate(V,x) + C_2\n",
    "kappa = M/EI\n",
    "phi = sym.integrate(kappa,x) + C_3\n",
    "w = -sym.integrate(phi,x) + C_4\n",
    "display(w)"
   ]
  },
  {
   "cell_type": "code",
   "execution_count": 8,
   "id": "7bfb37d8",
   "metadata": {},
   "outputs": [
    {
     "data": {
      "text/latex": [
       "$\\displaystyle C_{1} = \\ell q$"
      ],
      "text/plain": [
       "Eq(C_1, ell*q)"
      ]
     },
     "metadata": {},
     "output_type": "display_data"
    },
    {
     "data": {
      "text/latex": [
       "$\\displaystyle C_{2} = - \\frac{\\ell^{2} q}{2}$"
      ],
      "text/plain": [
       "Eq(C_2, -ell**2*q/2)"
      ]
     },
     "metadata": {},
     "output_type": "display_data"
    },
    {
     "data": {
      "text/latex": [
       "$\\displaystyle C_{3} = 0$"
      ],
      "text/plain": [
       "Eq(C_3, 0)"
      ]
     },
     "metadata": {},
     "output_type": "display_data"
    },
    {
     "data": {
      "text/latex": [
       "$\\displaystyle C_{4} = 0$"
      ],
      "text/plain": [
       "Eq(C_4, 0)"
      ]
     },
     "metadata": {},
     "output_type": "display_data"
    }
   ],
   "source": [
    "eq1 = sym.Eq(w.subs(x,0),0)\n",
    "eq2 = sym.Eq(phi.subs(x,0),0)\n",
    "eq3 = sym.Eq(M.subs(x,L),0)\n",
    "eq4 = sym.Eq(V.subs(x,L),0)\n",
    "C_sol = sym.solve([eq1, eq2, eq3, eq4 ], [C_1, C_2, C_3, C_4])\n",
    "for key in C_sol:\n",
    "    display(sym.Eq(key, C_sol[key]))"
   ]
  },
  {
   "cell_type": "code",
   "execution_count": 9,
   "id": "826d6c5b",
   "metadata": {},
   "outputs": [
    {
     "data": {
      "text/latex": [
       "$\\displaystyle \\frac{\\ell^{2} q x^{2}}{4 EI} - \\frac{\\ell q x^{3}}{6 EI} + \\frac{q x^{4}}{24 EI}$"
      ],
      "text/plain": [
       "ell**2*q*x**2/(4*EI) - ell*q*x**3/(6*EI) + q*x**4/(24*EI)"
      ]
     },
     "execution_count": 9,
     "metadata": {},
     "output_type": "execute_result"
    }
   ],
   "source": [
    "w.subs(C_sol)"
   ]
  },
  {
   "cell_type": "markdown",
   "metadata": {},
   "source": [
    "## Solving differential equations of two fields\n",
    "\n",
    "A similar approach can be taken when solving two fields.\n",
    "\n",
    "Let's investigate the following structure, consisting of two fields.\n",
    "\n",
    "```{figure} extension2fields.svg\n",
    ":name: extension2fields\n",
    ":align: center\n",
    "\n",
    "Extension bar with nodal load\n",
    "```\n",
    "\n",
    "As this structure is loaded along its axis, the differential equation for extension is used.\n",
    "\n",
    "For the first field this gives:\n",
    "\n",
    "- $\\cA{EA_1\\cfrac{\\mrm{d}^2u_1}{\\mrm{d}x^2}=0}$\n",
    "- $\\cA{N_1 = C_1}$\n",
    "- $\\cA{u_1(x) = \\cfrac{C_1}{EA}x + C_2}$\n",
    "- Boundary conditions: $\\cA{u_1(0) = 0}$\n",
    "\n",
    "For the second field it gives:\n",
    "\n",
    "- $\\cB{EA_2\\cfrac{\\mrm{d}^2u_2}{\\mrm{d}x^2}=0}$\n",
    "- $\\cB{N_2 = C_3}$\n",
    "- $\\cB{u_2(x) = \\cfrac{C_3}{EA}x + C_4}$\n",
    "- Boundary conditions: $\\cB{N_2(\\ell_1+\\ell_2) = F}$\n",
    "\n",
    "The two remaining integration constants can be solved by specifying interface conditions:\n",
    "- $\\cA{u_1(\\ell_1)} = \\cB{u_2(\\ell_1)}$\n",
    "- $\\cA{N_1} = \\cB{N_2}$"
   ]
  },
  {
   "cell_type": "markdown",
   "id": "e9520908",
   "metadata": {},
   "source": [
    "## Solving differential equations of more fields\n",
    "\n",
    "The same approach can be taken to tackle problems with more field, like the one below:\n",
    "\n",
    "```{figure} bigframe.svg\n",
    ":name: bigframe\n",
    ":align: center\n",
    "\n",
    "Frame structure with many fields\n",
    "```\n",
    "\n",
    "How many integration constants should be solved for here? How many boundary- and interface conditions would be needed for that? It gets annoying very quickly as each of these conditions need to be defined carefully.\n",
    "\n",
    "## Equivalence with matrix method\n",
    "\n",
    "While both methods segment the structure in different parts, the matrix method applies a different principle in solving the structure than when directly solving differential equations: instead of solving for integration constants, nodal displacements are solved for. This shows big potential because setting up all the boundary- and interface conditions can be tedious and is problem-specific. The matrix method applies a generic algorithmic approach to combine all unknown nodal displacements\n",
    "\n",
    "The similarities and differences are shown in the table below.\n",
    "\n",
    ":::{table} Equivalence solving differential equations and matrix method\n",
    ":widths: auto\n",
    ":align: center\n",
    "\n",
    "|Solving differential equations|Matrix method|\n",
    "|:-:|:-:|\n",
    "|Segment structure in separate fields|Segment structure in mostly repetitive elements|\n",
    "|Define all boundary- and interface conditions|Define relations in generic algorithmic manner|\n",
    "|Solve for integration constants $C_1, C_2, ...$|Solve nodal displacements $u_1, u_2, ...$|\n",
    "\n",
    ":::"
   ]
  }
 ],
 "metadata": {
  "kernelspec": {
   "display_name": "base",
   "language": "python",
   "name": "python3"
  },
  "language_info": {
   "codemirror_mode": {
    "name": "ipython",
    "version": 3
   },
   "file_extension": ".py",
   "mimetype": "text/x-python",
   "name": "python",
   "nbconvert_exporter": "python",
   "pygments_lexer": "ipython3",
   "version": "3.9.18"
  }
 },
 "nbformat": 4,
 "nbformat_minor": 2
}
