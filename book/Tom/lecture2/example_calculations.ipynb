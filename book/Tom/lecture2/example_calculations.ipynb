{
 "cells": [
  {
   "cell_type": "code",
   "execution_count": 6,
   "metadata": {},
   "outputs": [],
   "source": [
    "import sympy as sym\n",
    "sym.init_printing()"
   ]
  },
  {
   "cell_type": "code",
   "execution_count": 7,
   "metadata": {},
   "outputs": [
    {
     "data": {
      "image/png": "[encoded data removed]",
      "text/latex": [
       "$\\displaystyle GI_{t} \\frac{d^{2}}{d x^{2}} w{\\left(x \\right)} = - m$"
      ],
      "text/plain": [
       "      2           \n",
       "     d            \n",
       "GIₜ⋅───(w(x)) = -m\n",
       "      2           \n",
       "    dx            "
      ]
     },
     "metadata": {},
     "output_type": "display_data"
    }
   ],
   "source": [
    "GI_t, x, L, m = sym.symbols('GI_t, x, L, m')\n",
    "w = sym.Function('w')\n",
    "\n",
    "ODE_torsion = sym.Eq(w(x).diff(x, 2) * GI_t, -m)\n",
    "display(ODE_torsion)"
   ]
  },
  {
   "cell_type": "code",
   "execution_count": 8,
   "metadata": {},
   "outputs": [
    {
     "data": {
      "image/png": "[encoded data removed]",
      "text/latex": [
       "$\\displaystyle C_{1} + C_{2} x - \\frac{m x^{2}}{2 GI_{t}}$"
      ],
      "text/plain": [
       "                2\n",
       "             m⋅x \n",
       "C₁ + C₂⋅x - ─────\n",
       "            2⋅GIₜ"
      ]
     },
     "metadata": {},
     "output_type": "display_data"
    }
   ],
   "source": [
    "phi = sym.dsolve(ODE_torsion, w(x)).rhs\n",
    "display(phi)"
   ]
  },
  {
   "cell_type": "code",
   "execution_count": 9,
   "metadata": {},
   "outputs": [],
   "source": [
    "theta = phi.diff(x)\n",
    "M = GI_t * theta"
   ]
  },
  {
   "cell_type": "code",
   "execution_count": 21,
   "metadata": {},
   "outputs": [
    {
     "data": {
      "image/png": "[encoded data removed]",
      "text/latex": [
       "$\\displaystyle C_{1} = 0$"
      ],
      "text/plain": [
       "C₁ = 0"
      ]
     },
     "metadata": {},
     "output_type": "display_data"
    },
    {
     "data": {
      "image/png": "[encoded data removed]",
      "text/latex": [
       "$\\displaystyle C_{2} = \\frac{F_{1} + L q}{EA}$"
      ],
      "text/plain": [
       "     F₁ + L⋅q\n",
       "C₂ = ────────\n",
       "        EA   "
      ]
     },
     "metadata": {},
     "output_type": "display_data"
    }
   ],
   "source": [
    "F1 = sym.symbols('F1')\n",
    "eq1 = sym.Eq(w.subs(x,0),0)\n",
    "eq2 = sym.Eq(N.subs(x,L),F1)\n",
    "\n",
    "sol = sym.solve([eq1, eq2 ], sym.symbols('C1, C2'))\n",
    "for key in sol:\n",
    "    display(sym.Eq(key, sol[key]))"
   ]
  },
  {
   "cell_type": "code",
   "execution_count": 22,
   "metadata": {},
   "outputs": [
    {
     "data": {
      "image/png": "[encoded data removed]",
      "text/latex": [
       "$\\displaystyle \\frac{F_{1} L}{EA} + \\frac{L^{2} q}{2 EA}$"
      ],
      "text/plain": [
       "        2  \n",
       "F₁⋅L   L ⋅q\n",
       "──── + ────\n",
       " EA    2⋅EA"
      ]
     },
     "metadata": {},
     "output_type": "display_data"
    },
    {
     "data": {
      "image/png": "[encoded data removed]",
      "text/latex": [
       "$\\displaystyle \\frac{EA w_{L}}{L} - \\frac{L q}{2}$"
      ],
      "text/plain": [
       "EA⋅w_L   L⋅q\n",
       "────── - ───\n",
       "  L       2 "
      ]
     },
     "execution_count": 22,
     "metadata": {},
     "output_type": "execute_result"
    }
   ],
   "source": [
    "w_L = sym.symbols('w_L')\n",
    "display(w.subs(sol).subs(x,L).expand())\n",
    "sym.solve(sym.Eq(w.subs(sol).subs(x,L).simplify(),w_L), F1)[0]"
   ]
  }
 ],
 "metadata": {
  "kernelspec": {
   "display_name": "base",
   "language": "python",
   "name": "python3"
  },
  "language_info": {
   "codemirror_mode": {
    "name": "ipython",
    "version": 3
   },
   "file_extension": ".py",
   "mimetype": "text/x-python",
   "name": "python",
   "nbconvert_exporter": "python",
   "pygments_lexer": "ipython3",
   "version": "3.9.18"
  }
 },
 "nbformat": 4,
 "nbformat_minor": 2
}
