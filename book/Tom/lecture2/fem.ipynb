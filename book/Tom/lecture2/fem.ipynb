{
 "cells": [
  {
   "cell_type": "markdown",
   "metadata": {},
   "source": [
    "# Finite element method vs. Matrix Method\n",
    "\n",
    "> This page reuses <license> content from {cite:t}`MUDE`. {fa}`quote-left`{ref}`Find out more here.<external_resources>`\n",
    "\n",
    "You've seen the finite element method before, which could be used to solve similar problems. But what are the differences?\n",
    "\n",
    "::::::{topic} Learning objective\n",
    "We'll investigate the differences and equivalence between solving structures with the finite element method and the matrix method.\n",
    "::::::"
   ]
  },
  {
   "cell_type": "markdown",
   "metadata": {},
   "source": [
    "## Equivalence with matrix method\n",
    "\n",
    "Although the two method can give the same results, the methods are different.\n",
    "\n",
    "The matrix method solves the strong from of the differential equation, as derived in [](../lecture1/single_element.md). The finite element method solves the weak form by multiplying the strong form by a test function {cite:p}`MUDE2`. In doing so, the choice for the shape function of the test-functions and approximate solution matters. The two methods end up with the same solution if the \"approximation\" assumed by FEM (linear shape functions for extension, cubic for bending) turn out to be the exact ODE solution.\n",
    "\n",
    "In terms of global and local coordinate systems, there's an additional difference. Where the matrix method solves the nodal displacements and support reactions globally, using locally derived force-displacement relations. On the contrary, the finite element method solves the weak form globally with shape functions defined globally.\n",
    "\n",
    "Finally, the matrix method has limitations. It turns out to be impossible to glue element through equilibrium for twodimensional elements. Furthermore, exact solution for the differential equations, required for defining the local stiffness matrix, generally do not exist for twodimensional elements.\n",
    "\n",
    ":::{table} Equivalence finite element- and matrix method\n",
    ":widths: auto\n",
    ":align: center\n",
    "\n",
    "|Finite element method|Matrix method|\n",
    "|:-:|:-:|\n",
    "|Solves weak form|Solves the strong form|\n",
    "|Solves everything globally|Solves discrete solution globally, with locally derived equations|\n",
    "|Generally applicable to differential equations| Only applicable for 1D elements|\n",
    "\n",
    ":::"
   ]
  },
  {
   "cell_type": "markdown",
   "id": "4535ad60",
   "metadata": {},
   "source": [
    "## Example with finite element method\n",
    "\n",
    "Let's consider the examples from [](../lecture1/displacement.md):\n",
    "\n",
    "```{figure} ../lecture1/extension2fieldsdisp.svg\n",
    ":name: extension2fieldsq2\n",
    ":align: center\n",
    "\n",
    "Statically indeterminate extension bar\n",
    "```\n",
    "\n",
    "We'll apply the finite element method by using the matrix implementation from [MUDE](https://mude.citg.tudelft.nl/2024/book/fem/matrix.html) {cite:p}`MUDE`. We use linear shape functions: $ N_a(x) = \\cfrac{x_b-x}{x_b-x_a}=\\cfrac{x_b-x}{\\Delta x}$ and $N_b(x)=\\cfrac{x-x_a}{x_b-x_a}=\\cfrac{x-x_a}{\\Delta x}$. For this specific example, this matches the linear normal force distribution, leading to similar results:"
   ]
  },
  {
   "cell_type": "code",
   "execution_count": 2,
   "metadata": {
    "tags": [
     "hide-cell",
     "thebe-init"
    ]
   },
   "outputs": [],
   "source": [
    "import numpy as np\n",
    "import matplotlib.pyplot as plt"
   ]
  },
  {
   "cell_type": "code",
   "execution_count": 3,
   "metadata": {
    "tags": [
     "hide-cell",
     "thebe-init"
    ]
   },
   "outputs": [],
   "source": [
    "# Returns the evaluated N matrix\n",
    "# - The local coordinate of evaluation \"x_local\"\n",
    "# - The element size \"dx\"\n",
    "def evaluate_N(x_local, dx):\n",
    "    return np.array([[1-x_local/dx, x_local/dx]])\n",
    "\n",
    "# Returns the evaluated B vector\n",
    "# - The local coordinate of evaluation \"x_local\"\n",
    "# - The element size \"dx\"\n",
    "def evaluate_B(x_local, dx):\n",
    "    return np.array([[-1/dx, 1/dx]])\n",
    "\n",
    "# Returning the matrix of a single element\n",
    "# - The stiffness of the rod \"EA\"\n",
    "# - The length of an element \"dx\"\n",
    "def get_element_matrix(EA, dx):\n",
    "    \n",
    "    # Defining integration locations and weights\n",
    "    integration_locations = [(dx - dx/(3**0.5))/2, (dx + dx/(3**0.5))/2]\n",
    "    integration_weights = [dx/2, dx/2]\n",
    "    n_ip = len(integration_weights)\n",
    "\n",
    "    # Setting up the local element matrix\n",
    "    n_node = 2\n",
    "    K_loc = np.zeros((n_node,n_node))\n",
    "\n",
    "    # Evaluation of the matrix in a loop over integration points\n",
    "    for x_i, w_i in zip(integration_locations, integration_weights):\n",
    "        B = evaluate_B(x_i, dx)\n",
    "        K_loc += EA*np.dot(np.transpose(B), B)*w_i\n",
    "\n",
    "    return K_loc\n",
    "\n",
    "# Returning the force vector of a single element (distrubted load only)\n",
    "# - The magnitude of constant distributed load \"q\"\n",
    "# - The length of the element \"dx\"\n",
    "def get_element_force(q, dx):\n",
    "    # Creating a matrix with the required size\n",
    "    n_node = 2\n",
    "    N = np.zeros((1,n_node))    # Defining in 2 dimensions is nessecary for transpose\n",
    "    \n",
    "    # Defining integration locations and weights\n",
    "    integration_locations = [(dx - dx/(3**0.5))/2, (dx + dx/(3**0.5))/2]\n",
    "    integration_weights = [dx/2, dx/2]\n",
    "    \n",
    "    # Setting up the local element force vector\n",
    "    f_loc = np.zeros((n_node,1))\n",
    "    \n",
    "    for x_i, w_i in zip(integration_locations, integration_weights):\n",
    "        N = evaluate_N(x_i,dx)\n",
    "        f_loc += np.transpose(N)*q*w_i\n",
    "\n",
    "    return f_loc\n",
    "\n",
    "def get_nodes_for_element(ie):\n",
    "    return np.array([ie,ie+1])\n",
    "\n",
    "# - The length of the rod \"rod_length\"\n",
    "# - The number of elements \"n_el\"\n",
    "# - The stiffness of the rod \"EA\"\n",
    "def assemble_global_K(rod_length, n_el, EA):\n",
    "    n_DOF = n_el+1\n",
    "    dx = rod_length/n_el\n",
    "    K_global = np.zeros((n_DOF, n_DOF))\n",
    "    \n",
    "    for i in range(n_el):\n",
    "        elnodes = get_nodes_for_element(i)\n",
    "        K_global[np.ix_(elnodes,elnodes)] += get_element_matrix(EA, dx)\n",
    "    \n",
    "    return K_global\n",
    "\n",
    "# Returns the global f vector with continuous forces on a rod\n",
    "# - The length of the rod \"rod_length\"\n",
    "# - The number of elements \"n_el\"\n",
    "# - The force on the rod \"EA\"\n",
    "def assemble_global_f(rod_length, n_el, q):\n",
    "    n_DOF = n_el+1\n",
    "    dx = rod_length/n_el\n",
    "    f_global = np.zeros((n_DOF,1))\n",
    "    \n",
    "    for i in range(n_el):\n",
    "        elnodes = get_nodes_for_element(i) \n",
    "        f_global[elnodes] += get_element_force(q, dx)\n",
    "        \n",
    "    return np.squeeze(f_global)"
   ]
  },
  {
   "cell_type": "code",
   "execution_count": 6,
   "metadata": {
    "tags": [
     "hide-input",
     "thebe-init"
    ]
   },
   "outputs": [],
   "source": [
    "def simulate(n_element):\n",
    "    length = 3              # Length\n",
    "    EA = 1e3                # Stiffness EA\n",
    "    n_node = n_element + 1  # Number of nodes\n",
    "    u_left = 0              # Displacement at the left boundary\n",
    "    u_right = 0             # Displacement at the right boundary\n",
    "    q_load = 10             # Distibuted load\n",
    "\n",
    "    dx = length/n_element\n",
    "    x = np.linspace(0,length,n_node)\n",
    "\n",
    "    # Assmemble K for the rod problem\n",
    "    K = assemble_global_K(length, n_element, EA)\n",
    "\n",
    "    # Assemble f first with distributed load only\n",
    "    f = assemble_global_f(length, n_element, q_load)\n",
    "\n",
    "    # Initialize vector u with displacements\n",
    "    u = np.zeros(n_node)\n",
    "\n",
    "    # Solve the system for unknown displacements\n",
    "    K_inv = np.linalg.inv(K[1:n_node-1, 1:n_node-1])\n",
    "    u[1:n_node-1] = np.dot(K_inv, f[1:n_node-1])\n",
    "\n",
    "    return x, u"
   ]
  },
  {
   "cell_type": "code",
   "execution_count": 27,
   "metadata": {
    "tags": [
     "thebe-init"
    ]
   },
   "outputs": [
    {
     "name": "stdout",
     "output_type": "stream",
     "text": [
      "0.01125\n"
     ]
    }
   ],
   "source": [
    "x, u = simulate(2)\n",
    "print(u[1])"
   ]
  },
  {
   "cell_type": "markdown",
   "metadata": {},
   "source": [
    "## Example with matrix method\n",
    "\n",
    "Applying the matrix method (including implementations you'll implement during [](../workshop2.md)) yields the same result:"
   ]
  },
  {
   "cell_type": "code",
   "execution_count": null,
   "metadata": {
    "tags": [
     "thebe-remove-input-init"
    ]
   },
   "outputs": [],
   "source": [
    "import matplotlib as plt\n",
    "import numpy as np\n",
    "sys.path.insert(1, '/matrixmethod_solution')\n",
    "import matrixmethod_solution as mm\n",
    "%config InlineBackend.figure_formats = ['svg']"
   ]
  },
  {
   "cell_type": "code",
   "execution_count": 2,
   "metadata": {
    "tags": [
     "remove-cell"
    ]
   },
   "outputs": [],
   "source": [
    "import matplotlib as plt\n",
    "import numpy as np\n",
    "import matrixmethod_solution as mm\n",
    "%config InlineBackend.figure_formats = ['svg']"
   ]
  },
  {
   "cell_type": "code",
   "execution_count": null,
   "metadata": {
    "tags": [
     "disable-execution-cell",
     "hide-cell"
    ]
   },
   "outputs": [],
   "source": [
    "import numpy as np\n",
    "import matplotlib as plt\n",
    "import matrixmethod as mm\n",
    "%config InlineBackend.figure_formats = ['svg']"
   ]
  },
  {
   "cell_type": "code",
   "execution_count": 3,
   "metadata": {
    "tags": [
     "hide-input",
     "thebe-init"
    ]
   },
   "outputs": [],
   "source": [
    "mm.Node.clear()\n",
    "mm.Element.clear()\n",
    "\n",
    "nodes = []\n",
    "\n",
    "nodes.append(mm.Node(0,0))\n",
    "nodes.append(mm.Node(1.5,0))\n",
    "nodes.append(mm.Node(3,0))\n",
    "\n",
    "elems = []\n",
    "\n",
    "elems.append(mm.Element(nodes[0], nodes[1]))\n",
    "elems.append(mm.Element(nodes[1], nodes[2]))\n",
    "\n",
    "for elem in elems:\n",
    "    elem.set_section({'EA': 1e3})\n",
    "    elem.add_distributed_load([10,0])\n",
    "\n",
    "con = mm.Constrainer()\n",
    "\n",
    "con.fix_node(nodes[0])\n",
    "con.fix_node(nodes[2])\n",
    "\n",
    "global_k = np.zeros ((3*len(nodes), 3*len(nodes)))\n",
    "global_f = np.zeros (3*len(nodes))\n",
    "\n",
    "for elem in elems:\n",
    "    elmat = elem.stiffness()\n",
    "    idofs = elem.global_dofs()\n",
    "    \n",
    "    global_k[np.ix_(idofs,idofs)] += elmat\n",
    "\n",
    "for node in nodes:\n",
    "    global_f[node.dofs] += node.p\n",
    "\n",
    "Kff, Ff = con.constrain ( global_k, global_f )\n",
    "u_free = np.matmul ( np.linalg.inv(Kff), Ff )"
   ]
  },
  {
   "cell_type": "code",
   "execution_count": 4,
   "metadata": {
    "tags": [
     "thebe-init"
    ]
   },
   "outputs": [
    {
     "name": "stdout",
     "output_type": "stream",
     "text": [
      "0.01125\n"
     ]
    }
   ],
   "source": [
    "print(u_free[0])"
   ]
  },
  {
   "cell_type": "markdown",
   "metadata": {},
   "source": [
    "Which is the same result (not true in general)."
   ]
  }
 ],
 "metadata": {
  "kernelspec": {
   "display_name": "base",
   "language": "python",
   "name": "python3"
  },
  "language_info": {
   "codemirror_mode": {
    "name": "ipython",
    "version": 3
   },
   "file_extension": ".py",
   "mimetype": "text/x-python",
   "name": "python",
   "nbconvert_exporter": "python",
   "pygments_lexer": "ipython3",
   "version": "3.9.18"
  }
 },
 "nbformat": 4,
 "nbformat_minor": 2
}
