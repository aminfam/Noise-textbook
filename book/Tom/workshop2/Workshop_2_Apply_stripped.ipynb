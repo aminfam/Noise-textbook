{
 "cells": [
  {
   "cell_type": "markdown",
   "metadata": {},
   "source": [
    "# Workshop 2 - Apply\n",
    "    \n",
    "In this notebook you will solve a 2-element frame at the end of the notebook."
   ]
  },
  {
   "cell_type": "markdown",
   "metadata": {},
   "source": [
    "Our matrix method implementation is now completely stored in a local package, consisting of three classes."
   ]
  },
  {
   "cell_type": "code",
   "execution_count": null,
   "metadata": {},
   "outputs": [],
   "source": [
    "import numpy as np\n",
    "import matrixmethod as mm\n",
    "%config InlineBackend.figure_formats = ['svg']"
   ]
  },
  {
   "cell_type": "markdown",
   "metadata": {},
   "source": [
    "## Two-element frame"
   ]
  },
  {
   "cell_type": "markdown",
   "metadata": {},
   "source": [
    "<figure>\n",
    "  <IMG SRC=\"https://raw.githubusercontent.com/ibcmrocha/public/main/twoelemframe.png\" WIDTH=300 ALIGN=\"center\">\n",
    "</figure>\n",
    "\n",
    "With:\n",
    "- $EI = 1500$\n",
    "- $EA = 1000$\n",
    "- $q = 9$\n",
    "- $L = 5$\n",
    "- $\\bar\\varphi = 0.15$\n",
    "\n",
    "The final example of this notebook is the two-element frame above. Here you should make use of all the new code you implemented:\n",
    "    \n",
    "- Set up the problem and compute a solution for `u_free`. Remember to consider the prescribed horizontal displacement $\\bar{u}$ at the right end of the structure.\n",
    "- Compute and plot bending moment lines for both elements (in the local and global coordinate systems)\n",
    "- Compute reactions at both supports"
   ]
  },
  {
   "cell_type": "code",
   "execution_count": null,
   "metadata": {},
   "outputs": [],
   "source": [
    "#YOUR CODE HERE"
   ]
  },
  {
   "cell_type": "code",
   "execution_count": null,
   "metadata": {},
   "outputs": [],
   "source": [
    "for elem in elems:\n",
    "    u_elem = con.full_disp(#YOUR CODE HERE)[#YOUR CODE HERE.global_dofs()]\n",
    "    elem.plot_displaced #YOUR CODE HERE"
   ]
  },
  {
   "cell_type": "markdown",
   "metadata": {},
   "source": [
    "For the given parameter values, if your implementation is fully correct, you should get the following nodal displacements and support reactions:\n",
    "$$\n",
    "\\mathbf{u}_\\mathrm{free} = \\left[-0.09274451, -0.13310939,  0.51159348, -0.01644455\\right]\n",
    "$$\n",
    "\n",
    "$$\n",
    "\\mathbf{f}_\\mathrm{cons} = \\left[27.35024439, -63.82451092,  17.64975561, -71.17548908, -36.75489076\\right]\n",
    "$$\n",
    "\n",
    "You should also get the following moment lines for the two elements:\n",
    "\n",
    "- in local coordinate system:\n",
    "![](https://raw.githubusercontent.com/ibcmrocha/public/main/moments_local.png)\n",
    "\n",
    "- in global coordinate system:\n",
    "![](https://raw.githubusercontent.com/ibcmrocha/public/main/moments_global.png)\n",
    "\n",
    "And the following displacements:\n",
    "- in local coordinate system:\n",
    "![](https://raw.githubusercontent.com/ibcmrocha/public/main/displacements_local.png)\n",
    "\n",
    "- in global coordinate system:\n",
    "![](https://raw.githubusercontent.com/ibcmrocha/public/main/displacements_global.png)"
   ]
  }
 ],
 "metadata": {
  "kernelspec": {
   "display_name": "base",
   "language": "python",
   "name": "python3"
  },
  "language_info": {
   "codemirror_mode": {
    "name": "ipython",
    "version": 3
   },
   "file_extension": ".py",
   "mimetype": "text/x-python",
   "name": "python",
   "nbconvert_exporter": "python",
   "pygments_lexer": "ipython3",
   "version": "3.9.18"
  }
 },
 "nbformat": 4,
 "nbformat_minor": 2
}
