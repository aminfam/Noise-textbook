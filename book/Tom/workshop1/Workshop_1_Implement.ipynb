{
 "cells": [
  {
   "cell_type": "markdown",
   "id": "21dac2fc",
   "metadata": {},
   "source": [
    "# Implementation\n",
    "\n",
    "::::::{attention}\n",
    "This page shows a preview of the assignment. Please fork and clone the assignment to work on it locally from [GitHub](https://github.com/CIEM5000-2025/practice-assignments)\n",
    "::::::\n",
    "\n",
    "::::::{versionadded} v2025.1.0 After workshop 1\n",
    "Solutions workshop 1 in text and downloads \n",
    "::::::\n",
    "\n",
    "::::::{versionchanged} v2025.0.3 2025-02-10 13:33, before workshop 1\n",
    "Fixed typo in [Exercise 2.6](exercise2.6)\n",
    "::::::\n",
    "\n",
    "In this notebook you will implement the matrix method and check it with some sanity checks."
   ]
  },
  {
   "cell_type": "markdown",
   "id": "587a0047",
   "metadata": {},
   "source": [
    "Our matrix method implementation is now completely stored in a local package, consisting of three classes. If you need a refresher on how to code with Classes and Objects, refer to the [section on Object Oriented Programming in the MUDE-book](https://mude.citg.tudelft.nl/2024/book/external/learn-programming/book/python/oop/classes.html), with additionally [programming assignment 1.7](https://mude.citg.tudelft.nl/2024/files/Week_1_7/PA_1_7_classy_distributions.html)"
   ]
  },
  {
   "cell_type": "markdown",
   "id": "0dad4438",
   "metadata": {},
   "source": [
    "```{custom_download_link} ./Workshop_1_Implement_stripped.ipynb\n",
    ":text: \".ipynb\"\n",
    ":replace_default: \"True\"\n",
    "```\n",
    "\n",
    "```{custom_download_link} ./Workshop_1_Implement_stripped_sol.ipynb\n",
    ":text: \".ipynb solution\"\n",
    ":replace_default: \"False\"\n",
    "```\n",
    "\n",
    "```{custom_download_link} ./Workshop_1_Implement.md\n",
    ":text: \".md:myst\"\n",
    ":replace_default: \"False\"\n",
    "```\n",
    "\n",
    "```{custom_download_link} https://github.com/CIEM5000-2025/practice-assignments\n",
    ":text: \"All files practice assignments\"\n",
    ":replace_default: \"False\"\n",
    "```\n",
    "\n",
    "```{custom_download_link} https://github.com/CIEM5000-2025/practice-assignments/tree/solution_workshop_1\n",
    ":text: \"All files practice assignments solutions workshop 1\"\n",
    ":replace_default: \"False\"\n",
    "```"
   ]
  },
  {
   "cell_type": "code",
   "execution_count": null,
   "id": "5595a57a",
   "metadata": {
    "tags": [
     "thebe-remove-input-init"
    ]
   },
   "outputs": [],
   "source": [
    "import matplotlib as plt\n",
    "import numpy as np\n",
    "sys.path.insert(1, '/matrixmethod_solution')\n",
    "import matrixmethod_solution as mm\n",
    "%config InlineBackend.figure_formats = ['svg']"
   ]
  },
  {
   "cell_type": "code",
   "execution_count": 1,
   "id": "f58969fe",
   "metadata": {
    "tags": [
     "remove-cell"
    ]
   },
   "outputs": [],
   "source": [
    "import matplotlib as plt\n",
    "import numpy as np\n",
    "import matrixmethod_solution as mm\n",
    "%config InlineBackend.figure_formats = ['svg']"
   ]
  },
  {
   "cell_type": "code",
   "execution_count": null,
   "id": "bafbbdff",
   "metadata": {
    "tags": [
     "disable-execution-cell"
    ]
   },
   "outputs": [],
   "source": [
    "import numpy as np\n",
    "import matplotlib as plt\n",
    "import matrixmethod as mm\n",
    "%config InlineBackend.figure_formats = ['svg']"
   ]
  },
  {
   "cell_type": "markdown",
   "id": "c1048608",
   "metadata": {},
   "source": [
    "## 1. The Node class\n",
    "This class is stored in [`./matrixmethod/node.py`](../matrixmethod/node.md)\n",
    "\n",
    "The purpose of this class is to store node information and keep track of the total number of DOFs of the problem. Note the automatic bookkeeping we introduce in `__init__`. This simple but efficient way of keeping track of which DOFs belong to which nodes will make life much easier when we need to assemble matrices from multiple elements. The Node class doesn't need any modification.\n",
    "\n",
    "```{exercise-start} Workshop 1 - 1.1\n",
    ":label: exercise1.1\n",
    ":nonumber: true\n",
    ":class: exercise\n",
    "\n",
    "To test whether you understand how the class works, create two nodes on coordinates ($0$,$0$) and ($3$,$4$) and print the string representation of both nodes. The `clear` function is called to restart the node and DOF counters. Make sure this is done whenever you start solving a new problem.\n",
    "```"
   ]
  },
  {
   "cell_type": "code",
   "execution_count": null,
   "id": "bd25f383",
   "metadata": {},
   "outputs": [],
   "source": [
    "mm.Node.clear()\n",
    "\n",
    "node1 #= mm.Node(YOUR CODE HERE\n",
    "\n",
    "print(node1)\n",
    "#YOUR CODE HERE"
   ]
  },
  {
   "cell_type": "markdown",
   "id": "5ae5efa2",
   "metadata": {},
   "source": [
    "```{exercise-end}\n",
    "```"
   ]
  },
  {
   "cell_type": "markdown",
   "id": "f8eecf9f",
   "metadata": {},
   "source": [
    "::::::{hint}\n",
    ":class: dropdown\n",
    "\n",
    "Your output should look like this:\n",
    "\n",
    "```\n",
    "This node has:\n",
    " - x coordinate=0,\n",
    " - z coordinate=0,\n",
    " - degrees of freedom=[0, 1, 2],\n",
    " - load vector=[0. 0. 0.]\n",
    "This node has:\n",
    " - x coordinate=3,\n",
    " - z coordinate=4,\n",
    " - degrees of freedom=[3, 4, 5],\n",
    " - load vector=[0. 0. 0.]\n",
    "```\n",
    "::::::"
   ]
  },
  {
   "cell_type": "markdown",
   "id": "96074767",
   "metadata": {},
   "source": [
    "```{solution-start} exercise1.1\n",
    ":class: dropdown\n",
    "```"
   ]
  },
  {
   "cell_type": "code",
   "execution_count": 2,
   "id": "2e0506c0",
   "metadata": {
    "tags": [
     "thebe-init"
    ]
   },
   "outputs": [
    {
     "name": "stdout",
     "output_type": "stream",
     "text": [
      "This node has:\n",
      " - x coordinate=0,\n",
      " - z coordinate=0,\n",
      " - degrees of freedom=[0, 1, 2],\n",
      " - load vector=[0. 0. 0.]\n",
      "This node has:\n",
      " - x coordinate=3,\n",
      " - z coordinate=4,\n",
      " - degrees of freedom=[3, 4, 5],\n",
      " - load vector=[0. 0. 0.]\n"
     ]
    }
   ],
   "source": [
    "mm.Node.clear()\n",
    "\n",
    "node1 = mm.Node(0,0)\n",
    "node2 = mm.Node(3,4)\n",
    "print(node1)\n",
    "print(node2)"
   ]
  },
  {
   "cell_type": "markdown",
   "id": "02381370",
   "metadata": {},
   "source": [
    "```{solution-end}\n",
    "```"
   ]
  },
  {
   "cell_type": "markdown",
   "id": "0a22e5e7",
   "metadata": {},
   "source": [
    "## 2. The Element class\n",
    "This class is stored in [`./matrixmethod/elements.py`](../matrixmethod/elements.md)\n",
    "\n",
    "This class keeps track of each element in the model, including:\n",
    "- Cross-section properties\n",
    "- Element orientation (for coordinate system transformations)\n",
    "- Which Nodes make up each element, and in turn (with help of the Node class) which DOFs belong to each element\n",
    "\n",
    "Apart from bookkeeping element data, the other main task of this class is to provide the element stiffness matrix in the global coordinate system (for subsequent assembly) and postprocess element-level fields. For now we keep postprocessing for next week and focus only on getting the correct stiffness matrix.\n",
    "\n",
    "Here the class describes an element combining extension and Euler-Bernoulli bending. A similar (or inherited) class could also be implemented for different element types (*e.g.* shear beam, Timoshenko beam, cable elements, etc). Here we also keep it simple by assuming elements are all arranged in a 2D plane.\n",
    "\n",
    "However, the implementation is incomplete:\n",
    "- The transformation matrix is missing in `__init__`, which is given in [](../lecture1/transformations.md). Make sure you take into account that a positive $\\Delta z$ with a positive $\\Delta x$ gives a negative angle $\\alpha$. Make use of `numpy.arctan2` to return the angle between $-\\pi$ and $\\pi$, `numpy.arctan` returns an angle between $-\\cfrac{\\pi}{2}$ and $-\\cfrac{\\pi}{2}$, and therefore cannot distinguish between all four quadrants.\n",
    "- The correct stiffness matrix for this extension-bending element coordinate system is missing in `stiffness`. You can derive the stiffness matrix yourself using pen and paper, SymPy or Maple, or copy the given stiffness matrix from [](../lecture1/other_elements.ipynb).\n",
    "- We keep the functions which add a distributed load and compute the moments / displacements untouched for this week. Next week we'll implement those as well.\n",
    "\n",
    "\n",
    "```{exercise} Workshop 1 - 2.1\n",
    ":label: exercise2.1\n",
    ":nonumber: true\n",
    "\n",
    "Add the missing pieces to the code in `./matrixmethod/elements.py`, before you perform the checks below. Do you specify your stiffness matrix in the global or local coordinate system?\n",
    "```\n",
    "\n",
    "(exercise2_1_text_name)=\n",
    "````{solution} exercise2.1\n",
    ":class: dropdown\n",
    "\n",
    "The stiffness matrix is specified in the global coordinate system.\n",
    "\n",
    "For the code implementations see `./matrixmethod/elements.py`:\n",
    "- [`__init__`](exercise2_1_py)\n",
    "- [`stiffness`](exercise2_1_2_py)\n",
    "````"
   ]
  },
  {
   "cell_type": "markdown",
   "id": "0ceb82d6",
   "metadata": {},
   "source": [
    "Whenever you make changes to your code in the `./matrixmethod/` folder, you need to reimport those. Instead of restarting the kernel, we use some magic ipython commands. Run the cell below once. Consequently, whenever you save your changes in one of the `.py`-files, it's automatically reloaded."
   ]
  },
  {
   "cell_type": "code",
   "execution_count": null,
   "id": "64b52d07",
   "metadata": {},
   "outputs": [],
   "source": [
    "%load_ext autoreload\n",
    "%autoreload 2"
   ]
  },
  {
   "cell_type": "markdown",
   "id": "33e08e77",
   "metadata": {},
   "source": [
    "::::::{error}\n",
    "Note that in this online book, you cannot make changes to multiple files simultaneously. These instructions are only applicable when you're working on this assignment locally; please fork and clone the assignment to work on it locally from [GitHub](https://github.com/CIEM5000-2025/practice-assignments).\n",
    "::::::\n",
    "\n",
    "```{exercise-start} Workshop 1 - 2.2\n",
    ":label: exercise2.2\n",
    ":nonumber: true\n",
    "\n",
    "First, let's check the stiffness matrix for a beam which doesn't require rotation. Create a horizontal element with length $2$ and $EI=4$ and print both the transformation matrix and the stiffness matrix.\n",
    "\n",
    "Do the matrices match with what you'd expect?\n",
    "```"
   ]
  },
  {
   "cell_type": "code",
   "execution_count": 3,
   "id": "7eaa5f7c",
   "metadata": {},
   "outputs": [],
   "source": [
    "mm.Node.clear()\n",
    "mm.Element.clear()"
   ]
  },
  {
   "cell_type": "code",
   "execution_count": null,
   "id": "05d32b1a",
   "metadata": {},
   "outputs": [],
   "source": [
    "#YOUR CODE HERE\n",
    "\n",
    "elem #= mm.Element(#YOUR CODE HERE\n",
    "\n",
    "section = {}\n",
    "section['EI'] #= YOUR CODE HERE\n",
    "elem.set_section(section)\n",
    "\n",
    "print(elem.T)\n",
    "print(elem.stiffness())"
   ]
  },
  {
   "cell_type": "markdown",
   "id": "cacb2b76",
   "metadata": {},
   "source": [
    "```{exercise-end}\n",
    "```\n",
    "\n",
    "```{solution-start} exercise2.2\n",
    ":class: dropdown\n",
    "```"
   ]
  },
  {
   "cell_type": "code",
   "execution_count": 5,
   "id": "2d95b2e7",
   "metadata": {
    "tags": [
     "thebe-init"
    ]
   },
   "outputs": [],
   "source": [
    "mm.Node.clear()\n",
    "mm.Element.clear()"
   ]
  },
  {
   "cell_type": "code",
   "execution_count": 6,
   "id": "fab5cf89",
   "metadata": {
    "tags": [
     "thebe-init"
    ]
   },
   "outputs": [
    {
     "name": "stdout",
     "output_type": "stream",
     "text": [
      "Element connecting:\n",
      "node #1:\n",
      " This node has:\n",
      " - x coordinate=0,\n",
      " - z coordinate=0,\n",
      " - degrees of freedom=[0, 1, 2],\n",
      " - load vector=[0. 0. 0.]\n",
      "with node #2:\n",
      " This node has:\n",
      " - x coordinate=2,\n",
      " - z coordinate=0,\n",
      " - degrees of freedom=[3, 4, 5],\n",
      " - load vector=[0. 0. 0.]\n",
      "[[ 1. -0.  0.  0.  0.  0.]\n",
      " [ 0.  1.  0.  0.  0.  0.]\n",
      " [ 0.  0.  1.  0.  0.  0.]\n",
      " [ 0.  0.  0.  1. -0.  0.]\n",
      " [ 0.  0.  0.  0.  1.  0.]\n",
      " [ 0.  0.  0.  0.  0.  1.]]\n",
      "[[ 5.e+19  0.e+00  0.e+00 -5.e+19  0.e+00  0.e+00]\n",
      " [ 0.e+00  6.e+00 -6.e+00  0.e+00 -6.e+00 -6.e+00]\n",
      " [ 0.e+00 -6.e+00  8.e+00  0.e+00  6.e+00  4.e+00]\n",
      " [-5.e+19  0.e+00  0.e+00  5.e+19  0.e+00  0.e+00]\n",
      " [ 0.e+00 -6.e+00  6.e+00  0.e+00  6.e+00  6.e+00]\n",
      " [ 0.e+00 -6.e+00  4.e+00  0.e+00  6.e+00  8.e+00]]\n"
     ]
    }
   ],
   "source": [
    "node1 = mm.Node(0,0)\n",
    "node2 = mm.Node(2,0)\n",
    "\n",
    "elem = mm.Element ( node1, node2 )\n",
    "\n",
    "section = {}\n",
    "section['EI'] = 4\n",
    "\n",
    "elem.set_section (section)\n",
    "\n",
    "print(elem)\n",
    "print(elem.T)\n",
    "print(elem.stiffness())"
   ]
  },
  {
   "cell_type": "markdown",
   "id": "f3fb39bc",
   "metadata": {},
   "source": [
    "- The transformation matrix is identity which should be because the local coordinate system is aligned with the global coordinate system\n",
    "- The values of the stiffness matrix are manually checked with the stiffness matrix from the slides and are correct.\n",
    "\n",
    "```{solution-end}\n",
    "```\n",
    "\n",
    "```{exercise-start} Workshop 1 - 2.3\n",
    ":label: exercise2.3\n",
    ":nonumber: true\n",
    "\n",
    "Now, create a vertical element with length $2$ and $EI=4$ and print the transformation and stiffness matrix.\n",
    "\n",
    "Do the matrices match with what you'd expect?\n",
    "```"
   ]
  },
  {
   "cell_type": "code",
   "execution_count": null,
   "id": "cea9e5d6",
   "metadata": {},
   "outputs": [],
   "source": [
    "#YOUR CODE HERE"
   ]
  },
  {
   "cell_type": "markdown",
   "id": "80071d52",
   "metadata": {},
   "source": [
    "```{exercise-end}\n",
    "```\n",
    "\n",
    "```{solution-start} exercise2.3\n",
    ":class: dropdown\n",
    "```"
   ]
  },
  {
   "cell_type": "code",
   "execution_count": 7,
   "id": "cc7b62e2",
   "metadata": {
    "tags": [
     "thebe-init"
    ]
   },
   "outputs": [
    {
     "name": "stdout",
     "output_type": "stream",
     "text": [
      "Element connecting:\n",
      "node #1:\n",
      " This node has:\n",
      " - x coordinate=0,\n",
      " - z coordinate=0,\n",
      " - degrees of freedom=[0, 1, 2],\n",
      " - load vector=[0. 0. 0.]\n",
      "with node #2:\n",
      " This node has:\n",
      " - x coordinate=0,\n",
      " - z coordinate=1,\n",
      " - degrees of freedom=[3, 4, 5],\n",
      " - load vector=[0. 0. 0.]\n",
      "[[ 6.123234e-17  1.000000e+00  0.000000e+00  0.000000e+00  0.000000e+00\n",
      "   0.000000e+00]\n",
      " [-1.000000e+00  6.123234e-17  0.000000e+00  0.000000e+00  0.000000e+00\n",
      "   0.000000e+00]\n",
      " [ 0.000000e+00  0.000000e+00  1.000000e+00  0.000000e+00  0.000000e+00\n",
      "   0.000000e+00]\n",
      " [ 0.000000e+00  0.000000e+00  0.000000e+00  6.123234e-17  1.000000e+00\n",
      "   0.000000e+00]\n",
      " [ 0.000000e+00  0.000000e+00  0.000000e+00 -1.000000e+00  6.123234e-17\n",
      "   0.000000e+00]\n",
      " [ 0.000000e+00  0.000000e+00  0.000000e+00  0.000000e+00  0.000000e+00\n",
      "   1.000000e+00]]\n",
      "[[ 1.2000000e+01  6.1232340e+03  6.0000000e+00 -1.2000000e+01\n",
      "  -6.1232340e+03  6.0000000e+00]\n",
      " [ 6.1232340e+03  1.0000000e+20 -3.6739404e-16 -6.1232340e+03\n",
      "  -1.0000000e+20 -3.6739404e-16]\n",
      " [ 6.0000000e+00 -3.6739404e-16  4.0000000e+00 -6.0000000e+00\n",
      "   3.6739404e-16  2.0000000e+00]\n",
      " [-1.2000000e+01 -6.1232340e+03 -6.0000000e+00  1.2000000e+01\n",
      "   6.1232340e+03 -6.0000000e+00]\n",
      " [-6.1232340e+03 -1.0000000e+20  3.6739404e-16  6.1232340e+03\n",
      "   1.0000000e+20  3.6739404e-16]\n",
      " [ 6.0000000e+00 -3.6739404e-16  2.0000000e+00 -6.0000000e+00\n",
      "   3.6739404e-16  4.0000000e+00]]\n"
     ]
    }
   ],
   "source": [
    "mm.Node.clear()\n",
    "mm.Element.clear()\n",
    "\n",
    "node1 = mm.Node(0,0)\n",
    "node2 = mm.Node(0,1)\n",
    "elem = mm.Element ( node1, node2 )\n",
    "\n",
    "section = {}\n",
    "section['EI'] = 1\n",
    "\n",
    "elem.set_section (section)\n",
    "\n",
    "print(elem)\n",
    "print(elem.T)\n",
    "print(elem.stiffness())"
   ]
  },
  {
   "cell_type": "markdown",
   "id": "1932dcab",
   "metadata": {},
   "source": [
    "- The transformation matrix moves the extension terms to the column corresponding to the vertical displacements, which is correct.\n",
    "- The transformation matrix moves the deflection terms to the column corresponding to the horizontal displacements, which is correct.\n",
    "- The rotation terms are untouched, which is correct\n",
    "\n",
    "```{solution-end}\n",
    "```\n",
    "\n",
    "```{exercise-start} Workshop 1 - 2.4\n",
    ":label: exercise2.4\n",
    ":nonumber: true\n",
    "\n",
    "Now, create an element rotated in $120^{\\circ}$ with length $2$ and print the transformation matrix.\n",
    "\n",
    "Do the matrices match with what you'd expect?\n",
    "```"
   ]
  },
  {
   "cell_type": "code",
   "execution_count": null,
   "id": "cbc08e03",
   "metadata": {},
   "outputs": [],
   "source": [
    "#YOUR CODE HERE"
   ]
  },
  {
   "cell_type": "markdown",
   "id": "18043954",
   "metadata": {},
   "source": [
    "```{exercise-end}\n",
    "```\n",
    "\n",
    "```{solution-start} exercise2.4\n",
    ":class: dropdown\n",
    "```"
   ]
  },
  {
   "cell_type": "code",
   "execution_count": 8,
   "id": "bd4632c7",
   "metadata": {
    "tags": [
     "thebe-init"
    ]
   },
   "outputs": [
    {
     "name": "stdout",
     "output_type": "stream",
     "text": [
      "Element connecting:\n",
      "node #1:\n",
      " This node has:\n",
      " - x coordinate=0,\n",
      " - z coordinate=0,\n",
      " - degrees of freedom=[0, 1, 2],\n",
      " - load vector=[0. 0. 0.]\n",
      "with node #2:\n",
      " This node has:\n",
      " - x coordinate=-1,\n",
      " - z coordinate=-1.7320508075688772,\n",
      " - degrees of freedom=[3, 4, 5],\n",
      " - load vector=[0. 0. 0.]\n",
      "[[-0.5       -0.8660254  0.         0.         0.         0.       ]\n",
      " [ 0.8660254 -0.5        0.         0.         0.         0.       ]\n",
      " [ 0.         0.         1.         0.         0.         0.       ]\n",
      " [ 0.         0.         0.        -0.5       -0.8660254  0.       ]\n",
      " [ 0.         0.         0.         0.8660254 -0.5        0.       ]\n",
      " [ 0.         0.         0.         0.         0.         1.       ]]\n"
     ]
    }
   ],
   "source": [
    "mm.Node.clear()\n",
    "mm.Element.clear()\n",
    "\n",
    "node1 = mm.Node(0,0)\n",
    "node2 = mm.Node(-1,-np.sqrt(3))\n",
    "elem = mm.Element ( node1, node2 )\n",
    "\n",
    "print(elem)\n",
    "print(elem.T)"
   ]
  },
  {
   "cell_type": "markdown",
   "id": "00883bc9",
   "metadata": {},
   "source": [
    "- Again, the rotation term is not transformed, which is expected.\n",
    "- A rotation of $120^{\\circ}$ corresponds with a cosine term of $-0.5$ which is correctly calculated\n",
    "- A rotation of $120^{\\circ}$ corresponds with a sin term of $0.5\\sqrt{3}$ which is correctly calculated\n",
    "\n",
    "```{solution-end}\n",
    "```\n",
    "\n",
    "```{exercise-start} Workshop 1 - 2.5\n",
    ":label: exercise2.5\n",
    ":nonumber: true\n",
    "\n",
    "Now, create an element rotated in $60^{\\circ}$ with length $2$ and print the transformation matrix.\n",
    "\n",
    "Do the matrices match with what you'd expect?\n",
    "```"
   ]
  },
  {
   "cell_type": "code",
   "execution_count": null,
   "id": "e977db0e",
   "metadata": {},
   "outputs": [],
   "source": [
    "#YOUR CODE HERE"
   ]
  },
  {
   "cell_type": "markdown",
   "id": "71d21ba6",
   "metadata": {},
   "source": [
    "```{exercise-end}\n",
    "```\n",
    "\n",
    "```{solution-start} exercise2.5\n",
    ":class: dropdown\n",
    "```"
   ]
  },
  {
   "cell_type": "code",
   "execution_count": 9,
   "id": "014465d3",
   "metadata": {
    "tags": [
     "thebe-init"
    ]
   },
   "outputs": [
    {
     "name": "stdout",
     "output_type": "stream",
     "text": [
      "Element connecting:\n",
      "node #1:\n",
      " This node has:\n",
      " - x coordinate=0,\n",
      " - z coordinate=0,\n",
      " - degrees of freedom=[0, 1, 2],\n",
      " - load vector=[0. 0. 0.]\n",
      "with node #2:\n",
      " This node has:\n",
      " - x coordinate=1,\n",
      " - z coordinate=-1.7320508075688772,\n",
      " - degrees of freedom=[3, 4, 5],\n",
      " - load vector=[0. 0. 0.]\n",
      "[[ 0.5       -0.8660254  0.         0.         0.         0.       ]\n",
      " [ 0.8660254  0.5        0.         0.         0.         0.       ]\n",
      " [ 0.         0.         1.         0.         0.         0.       ]\n",
      " [ 0.         0.         0.         0.5       -0.8660254  0.       ]\n",
      " [ 0.         0.         0.         0.8660254  0.5        0.       ]\n",
      " [ 0.         0.         0.         0.         0.         1.       ]]\n"
     ]
    }
   ],
   "source": [
    "mm.Node.clear()\n",
    "mm.Element.clear()\n",
    "\n",
    "node1 = mm.Node(0,0)\n",
    "node2 = mm.Node(1,-np.sqrt(3))\n",
    "elem = mm.Element ( node1, node2 )\n",
    "\n",
    "print(elem)\n",
    "print(elem.T)"
   ]
  },
  {
   "cell_type": "markdown",
   "id": "86dbb02f",
   "metadata": {},
   "source": [
    "- Again, the rotation term is not transformed, which is expected.\n",
    "- A rotation of $60^{\\circ}$ corresponds with a cosine term of $0.5$ which is correctly calculated\n",
    "- A rotation of $60^{\\circ}$ corresponds with a sin term of $0.5\\sqrt{3}$ which is correctly calculated\n",
    "\n",
    "```{solution-end}\n",
    "```\n",
    "\n",
    "```{exercise-start} Workshop 1 - 2.6\n",
    ":label: exercise2.6\n",
    ":nonumber: true\n",
    "\n",
    "For the previous element, a global displacement vector $\\mathbf{u}^{(e)} = \\begin{bmatrix} 0 \\\\0 \\\\ 0 \\\\ \\sqrt{3} \\\\ 1 \\\\ 0 \\end{bmatrix}$ is given. What would be the local displacement vector $\\bar{\\mathbf{u}}^{(e)}$?\n",
    "\n",
    "Check your answer using pen and paper. Tip: make a drawing instead of doing all the algebra.\n",
    "```"
   ]
  },
  {
   "cell_type": "code",
   "execution_count": null,
   "id": "6c1b731f",
   "metadata": {},
   "outputs": [],
   "source": [
    "#YOUR CODE HERE"
   ]
  },
  {
   "cell_type": "markdown",
   "id": "2c0f6405",
   "metadata": {},
   "source": [
    "```{exercise-end}\n",
    "```\n",
    "\n",
    "```{solution-start} exercise2.6\n",
    ":class: dropdown\n",
    "```"
   ]
  },
  {
   "cell_type": "code",
   "execution_count": 10,
   "id": "8c9e2a90",
   "metadata": {
    "tags": [
     "thebe-init"
    ]
   },
   "outputs": [
    {
     "name": "stdout",
     "output_type": "stream",
     "text": [
      "[0.00000000e+00 0.00000000e+00 0.00000000e+00 2.22044605e-16\n",
      " 2.00000000e+00 0.00000000e+00]\n"
     ]
    }
   ],
   "source": [
    "print(np.matmul(elem.T,np.array([0,0,0,np.sqrt(3),1,0])))"
   ]
  },
  {
   "cell_type": "markdown",
   "id": "be56ea8f",
   "metadata": {},
   "source": [
    "```{figure} https://raw.githubusercontent.com/ibcmrocha/public/main/sketch.png\n",
    ":align: center\n",
    "```\n",
    "\n",
    "```{solution-end}\n",
    "```\n",
    "\n",
    "## 3. The Constrainer class\n",
    "This class is stored in [`./matrixmethod/constrainer.py`](../matrixmethod/constrainer.md)\n",
    "\n",
    "This small class keeps track of which DOFs have prescribed displacements and takes care of applying these constraints to the global $\\mathbf{K}$ and $\\mathbf{f}$. For now we keep it simple and assume all constraints fix the DOF values to zero. Next week we will deal with non-zero prescribed values. \n",
    "\n",
    "However, the implementation is incomplete:\n",
    "- The `constrain` function is incomplete, which should mimic the process of striking rows/columns of constrained DOFs and reduce the size of the system to be solved. Remember that `Constrainer` stores which DOFs are constrained in `self.dofs`, so **all the others** should be free. After gathering the free DOFs in an array, you will need to select the correct blocks of $\\mathbf{K}$ and $\\mathbf{f}$. For the stiffness matrix you will need the `np.ix_()` helper function (check its documentation [here](https://numpy.org/doc/stable/reference/generated/numpy.ix_.html))\n",
    "- We keep the function which calculates supports reaction untouched for this week. Next week we'll implement that one as well."
   ]
  },
  {
   "cell_type": "markdown",
   "id": "bc728ca0",
   "metadata": {},
   "source": [
    "```{exercise} Workshop 1 - 3.1\n",
    ":label: exercise3.1\n",
    ":nonumber: true\n",
    "\n",
    "Add the missing pieces to the code, before you perform the check below\n",
    "```\n",
    "\n",
    "````{solution} exercise3.1\n",
    ":class: dropdown\n",
    "\n",
    "For the code implementations see `./matrixmethod/constrainer.py`: [`constrain`](exercise3_1_py)\n",
    "````\n",
    "\n",
    "```{exercise-start} Workshop 1 - 3.2\n",
    ":label: exercise3.2\n",
    ":nonumber: true\n",
    "\n",
    "Take the inclined element of exercise 2.5 and a bending stiffness of $1$. What happens if you invert $\\mathbf{K}$? Now fix all degrees of freedom of the first node. What happens when you invert your 'constrained' $\\mathbf{K}$? Are the dimensions of the 'constrained' $\\mathbf{K}$ correct?\n",
    "```"
   ]
  },
  {
   "cell_type": "code",
   "execution_count": null,
   "id": "b1db63c4",
   "metadata": {},
   "outputs": [],
   "source": [
    "#YOUR CODE HERE\n",
    "\n",
    "con = mm.Constrainer()\n",
    "\n",
    "#YOUR CODE HERE\n",
    "\n",
    "f = np.zeros (6) #empty load vector\n",
    "Kff, Fff = con.constrain( K, F )\n",
    "print(np.shape(np.linalg.inv(Kff)))"
   ]
  },
  {
   "cell_type": "markdown",
   "id": "68b710e9",
   "metadata": {},
   "source": [
    "```{exercise-end}\n",
    "```\n",
    "\n",
    "```{solution-start} exercise3.2\n",
    ":class: dropdown\n",
    "```"
   ]
  },
  {
   "cell_type": "code",
   "execution_count": 11,
   "id": "95ffd06b",
   "metadata": {
    "tags": [
     "thebe-init"
    ]
   },
   "outputs": [
    {
     "name": "stdout",
     "output_type": "stream",
     "text": [
      "This constrainer has constrained the degrees of freedom: [0, 1, 2] with corresponding constrained values: [0, 0, 0])\n",
      "(3, 3)\n"
     ]
    }
   ],
   "source": [
    "section = {}\n",
    "section['EI'] = 1\n",
    "elem.set_section (section)\n",
    "\n",
    "k = elem.stiffness()\n",
    "#print(np.linalg.inv(k))\n",
    "\n",
    "con = mm.Constrainer()\n",
    "\n",
    "con.fix_node (node1)\n",
    "\n",
    "print(con)\n",
    "\n",
    "f = np.zeros (6) #empty load vector\n",
    "Kff, Fff = con.constrain( k, f )\n",
    "print(np.shape(np.linalg.inv(Kff)))"
   ]
  },
  {
   "cell_type": "markdown",
   "id": "a974f4f3",
   "metadata": {},
   "source": [
    "- The inverted matrix of the original $\\mathbf{K}$ gives a singular matrix, which is correct as the structure can perform any rigid body translation / rotation.\n",
    "- The constrained matrix reduces $\\mathbf{K}$ to only the free terms, which is not singular any more.\n",
    "- The dimensions should match the number of free dofs, which is correct.\n",
    "\n",
    "```{solution-end}\n",
    "```\n",
    "\n",
    "## 4. Full implementation extension bar\n",
    "\n",
    "Having made our implementations, we now check them with two simple examples that serve as sanity checks. The first is a simple bar undergoing extension:"
   ]
  },
  {
   "cell_type": "markdown",
   "id": "72743e39",
   "metadata": {},
   "source": [
    "```{figure} https://raw.githubusercontent.com/ibcmrocha/public/main/extpointload.png\n",
    ":align: center\n",
    ":width: 200\n",
    "```\n",
    "\n",
    "With $EA = 1000$, $F = 100$ and $L = 1$."
   ]
  },
  {
   "cell_type": "markdown",
   "id": "88f94617",
   "metadata": {},
   "source": [
    "Use the code blocks below to set up and solve this problem using the classes above. The steps to follow are outlined below and short explanations/hints are given. Once you have a solution for the horizontal displacement of the node at the right end of the bar, compare it to the analytical solution you obtained in the first half of the course."
   ]
  },
  {
   "cell_type": "code",
   "execution_count": 17,
   "id": "f6f3cd83",
   "metadata": {
    "tags": [
     "thebe-init"
    ]
   },
   "outputs": [],
   "source": [
    "mm.Node.clear()\n",
    "mm.Element.clear()"
   ]
  },
  {
   "cell_type": "markdown",
   "id": "e367b412",
   "metadata": {},
   "source": [
    "```{exercise-start} Workshop 1 - 4.1\n",
    ":nonumber: true\n",
    ":label: exercise4.1\n",
    "\n",
    "Create two nodes here. You can store them on a `list` or simply create them as two separate objects (*e.g.* `node1` and `node2`).\n",
    "```"
   ]
  },
  {
   "cell_type": "code",
   "execution_count": null,
   "id": "ddc2fab9",
   "metadata": {},
   "outputs": [],
   "source": [
    "#YOUR CODE HERE"
   ]
  },
  {
   "cell_type": "markdown",
   "id": "2326f3b0",
   "metadata": {},
   "source": [
    "```{exercise-end}\n",
    "```\n",
    "\n",
    "```{solution-start} exercise4.1\n",
    ":class: dropdown\n",
    "```"
   ]
  },
  {
   "cell_type": "code",
   "execution_count": 18,
   "id": "7475c0ca",
   "metadata": {
    "tags": [
     "thebe-init"
    ]
   },
   "outputs": [],
   "source": [
    "L  = 1\n",
    "\n",
    "node1 = mm.Node (0,0)\n",
    "node2 = mm.Node (L,0)"
   ]
  },
  {
   "cell_type": "markdown",
   "id": "56c81970",
   "metadata": {},
   "source": [
    "```{solution-end}\n",
    "```\n",
    "\n",
    "```{exercise-start} Workshop 1 - 4.2\n",
    ":nonumber: true\n",
    ":label: exercise4.2\n",
    "\n",
    "Here we only have a single element, so there is no need to store it in a `list` yet. You are also going to need a `dict` defining the cross-section of the element.\n",
    "```"
   ]
  },
  {
   "cell_type": "code",
   "execution_count": null,
   "id": "7f531ea2",
   "metadata": {},
   "outputs": [],
   "source": [
    "#YOUR CODE HERE"
   ]
  },
  {
   "cell_type": "markdown",
   "id": "4b54e770",
   "metadata": {},
   "source": [
    "```{exercise-end}\n",
    "```\n",
    "\n",
    "```{solution-start} exercise4.2\n",
    ":class: dropdown\n",
    "```"
   ]
  },
  {
   "cell_type": "code",
   "execution_count": 19,
   "id": "74e14730",
   "metadata": {
    "tags": [
     "thebe-init"
    ]
   },
   "outputs": [
    {
     "name": "stdout",
     "output_type": "stream",
     "text": [
      "Element connecting:\n",
      "node #1:\n",
      " This node has:\n",
      " - x coordinate=0,\n",
      " - z coordinate=0,\n",
      " - degrees of freedom=[0, 1, 2],\n",
      " - load vector=[0. 0. 0.]\n",
      "with node #2:\n",
      " This node has:\n",
      " - x coordinate=1,\n",
      " - z coordinate=0,\n",
      " - degrees of freedom=[3, 4, 5],\n",
      " - load vector=[0. 0. 0.]\n"
     ]
    }
   ],
   "source": [
    "elem = mm.Element ( node1, node2 )\n",
    "\n",
    "EA = 1000\n",
    "section = {}\n",
    "section['EA'] = EA\n",
    "\n",
    "elem.set_section (section)\n",
    "print(elem)"
   ]
  },
  {
   "cell_type": "markdown",
   "id": "d8653f62",
   "metadata": {},
   "source": [
    "```{solution-end}\n",
    "```\n",
    "\n",
    "```{exercise-start} Workshop 1 - 4.3\n",
    ":nonumber: true\n",
    ":label: exercise4.3\n",
    "\n",
    "Let's define the boundary conditions. We create an instance of the `Constrainer` class to deal with prescribed displacements. Take a look at its functions and inform if Node 1 is fully fixed.\n",
    "\n",
    "You also need to pass the load $F$ on to Node 2. Check the member functions of `Node` to infer how that should be done.\n",
    "```"
   ]
  },
  {
   "cell_type": "code",
   "execution_count": null,
   "id": "3de5bf88",
   "metadata": {},
   "outputs": [],
   "source": [
    "#YOUR CODE HERE"
   ]
  },
  {
   "cell_type": "markdown",
   "id": "50e0d168",
   "metadata": {},
   "source": [
    "```{exercise-end}\n",
    "```\n",
    "\n",
    "```{solution-start} exercise4.3\n",
    ":class: dropdown\n",
    "```"
   ]
  },
  {
   "cell_type": "code",
   "execution_count": 20,
   "id": "90387eba",
   "metadata": {
    "tags": [
     "thebe-init"
    ]
   },
   "outputs": [
    {
     "name": "stdout",
     "output_type": "stream",
     "text": [
      "This node has:\n",
      " - x coordinate=1,\n",
      " - z coordinate=0,\n",
      " - degrees of freedom=[3, 4, 5],\n",
      " - load vector=[100.   0.   0.]\n",
      "This constrainer has constrained the degrees of freedom: [0, 1, 2] with corresponding constrained values: [0, 0, 0])\n"
     ]
    }
   ],
   "source": [
    "con = mm.Constrainer()\n",
    "\n",
    "con.fix_node (node1)\n",
    "\n",
    "F  = 100\n",
    "node2.add_load ([F,0,0])\n",
    "\n",
    "print(node2)\n",
    "print(con)"
   ]
  },
  {
   "cell_type": "markdown",
   "id": "709c224b",
   "metadata": {},
   "source": [
    "```{solution-end}\n",
    "```\n",
    "\n",
    "```{exercise-start} Workshop 1 - 4.4\n",
    ":nonumber: true\n",
    ":label: exercise4.4\n",
    "\n",
    "Now assemble the global stiffness matrix and force vector. Since we only have one element, there is no real assembly to be performed other than getting the stiffness matrix of the single element and storing the load at Node 2 in the correct positions of $\\mathbf{f}$.\n",
    "```"
   ]
  },
  {
   "cell_type": "code",
   "execution_count": null,
   "id": "6ab53e46",
   "metadata": {},
   "outputs": [],
   "source": [
    "#YOUR CODE HERE"
   ]
  },
  {
   "cell_type": "markdown",
   "id": "bec942ad",
   "metadata": {},
   "source": [
    "```{exercise-end}\n",
    "```\n",
    "\n",
    "```{solution-start} exercise4.4\n",
    ":class: dropdown\n",
    "```"
   ]
  },
  {
   "cell_type": "code",
   "execution_count": 21,
   "id": "3e9e44f1",
   "metadata": {
    "tags": [
     "thebe-init"
    ]
   },
   "outputs": [],
   "source": [
    "global_k = elem.stiffness()\n",
    "global_f = np.zeros (6)\n",
    "\n",
    "global_f[3:6] = node2.p"
   ]
  },
  {
   "cell_type": "markdown",
   "id": "9ad6a67a",
   "metadata": {},
   "source": [
    "```{solution-end}\n",
    "```\n",
    "\n",
    "```{exercise-start} Workshop 1 - 4.5\n",
    ":nonumber: true\n",
    ":label: exercise4.5\n",
    "\n",
    "Constrain the problem and solve for nodal displacements.\n",
    "```"
   ]
  },
  {
   "cell_type": "code",
   "execution_count": null,
   "id": "cc7d4697",
   "metadata": {},
   "outputs": [],
   "source": [
    "#YOUR CODE HERE"
   ]
  },
  {
   "cell_type": "markdown",
   "id": "011e02ad",
   "metadata": {},
   "source": [
    "```{exercise-end}\n",
    "```\n",
    "\n",
    "```{solution-start} exercise4.5\n",
    ":class: dropdown\n",
    "```"
   ]
  },
  {
   "cell_type": "code",
   "execution_count": 22,
   "id": "0402f77a",
   "metadata": {
    "tags": [
     "thebe-init"
    ]
   },
   "outputs": [
    {
     "name": "stdout",
     "output_type": "stream",
     "text": [
      "[0.1 0.  0. ]\n"
     ]
    }
   ],
   "source": [
    "Kff, Ff = con.constrain ( global_k, global_f )\n",
    "u = np.matmul ( np.linalg.inv(Kff), Ff )\n",
    "print(u)"
   ]
  },
  {
   "cell_type": "markdown",
   "id": "b67ed1d3",
   "metadata": {},
   "source": [
    "```{solution-end}\n",
    "```\n",
    "\n",
    "```{exercise-start} Workshop 1 - 4.6\n",
    ":nonumber: true\n",
    ":label: exercise4.6\n",
    "\n",
    "Finally, compare the displacement at the end of the bar with the one coming from the ODE solution. Note that since our element is already suitable for frames combining extension and bending, $\\mathbf{u}$ has three entries. Which one is the entry that matters to us here? Did your solutions match? If so, that is a sign your implementation is correct. Can you use the function `full_disp` to obtain a vector of all displacements?\n",
    "```"
   ]
  },
  {
   "cell_type": "code",
   "execution_count": null,
   "id": "d2261abf",
   "metadata": {},
   "outputs": [],
   "source": [
    "#EVENTUALLY YOUR CODE HERE"
   ]
  },
  {
   "cell_type": "markdown",
   "id": "61a0c368",
   "metadata": {},
   "source": [
    "```{exercise-end}\n",
    "```\n",
    "\n",
    "```{solution-start} exercise4.6\n",
    ":class: dropdown\n",
    "```"
   ]
  },
  {
   "cell_type": "code",
   "execution_count": 23,
   "id": "d7324dc5",
   "metadata": {
    "tags": [
     "thebe-init"
    ]
   },
   "outputs": [
    {
     "data": {
      "text/plain": [
       "array([0. , 0. , 0. , 0.1, 0. , 0. ])"
      ]
     },
     "execution_count": 23,
     "metadata": {},
     "output_type": "execute_result"
    }
   ],
   "source": [
    "con.full_disp(u)"
   ]
  },
  {
   "cell_type": "markdown",
   "id": "3f73f3d1",
   "metadata": {},
   "source": [
    "- The ODE solution is $ \\cfrac{F L}{EA} = \\cfrac{100 \\cdot 1}{1000} = 0.1$ which equals the solution from the matrix method.\n",
    "- Only the first term (displacement in horizontal direction) is relevant\n",
    "\n",
    "```{solution-end}\n",
    "```\n",
    "\n",
    "## 5. Full implementation bending beam\n",
    "\n",
    "In the first example above we tested our model under extension. But that does not really guarantee it will behave correctly in bending. That is the goal of this second sanity check. Let's solve the following problem:\n",
    "\n",
    "```{figure} https://raw.githubusercontent.com/ibcmrocha/public/main/cantilever.png\n",
    ":align: center\n",
    ":width: 200\n",
    "```\n",
    "\n",
    "Choose appropriate values yourself\n",
    "\n",
    "When setting up and solving your model, note that we are now interested in $w$ displacements, our load is now vertical and the cross-section property driving our deformation is now $EI$. Good luck!"
   ]
  },
  {
   "cell_type": "code",
   "execution_count": 24,
   "id": "1a20b676",
   "metadata": {
    "tags": [
     "thebe-init"
    ]
   },
   "outputs": [],
   "source": [
    "mm.Node.clear()\n",
    "mm.Element.clear()"
   ]
  },
  {
   "cell_type": "markdown",
   "id": "41d18260",
   "metadata": {},
   "source": [
    "```{exercise-start} Workshop 1 - 5.1\n",
    ":label: exercise5.1\n",
    ":nonumber: true\n",
    "\n",
    "Create nodes\n",
    "```"
   ]
  },
  {
   "cell_type": "code",
   "execution_count": null,
   "id": "60f24410",
   "metadata": {},
   "outputs": [],
   "source": [
    "#YOUR CODE HERE"
   ]
  },
  {
   "cell_type": "markdown",
   "id": "b36cf41b",
   "metadata": {},
   "source": [
    "```{exercise-end}\n",
    "```\n",
    "\n",
    "```{solution-start} exercise5.1\n",
    ":class: dropdown\n",
    "```"
   ]
  },
  {
   "cell_type": "code",
   "execution_count": 25,
   "id": "3dd9541f",
   "metadata": {
    "tags": [
     "thebe-init"
    ]
   },
   "outputs": [],
   "source": [
    "L  = 1\n",
    "node1 = mm.Node (0,0)\n",
    "node2 = mm.Node (L,0)"
   ]
  },
  {
   "cell_type": "markdown",
   "id": "cd450920",
   "metadata": {},
   "source": [
    "```{solution-end}\n",
    "```\n",
    "\n",
    "```{exercise-start} Workshop 1 - 5.2\n",
    ":label: exercise5.2\n",
    ":nonumber: true\n",
    "\n",
    "Create element\n",
    "```"
   ]
  },
  {
   "cell_type": "code",
   "execution_count": null,
   "id": "774061ec",
   "metadata": {},
   "outputs": [],
   "source": [
    "#YOUR CODE HERE"
   ]
  },
  {
   "cell_type": "markdown",
   "id": "610909f5",
   "metadata": {},
   "source": [
    "```{exercise-end}\n",
    "```\n",
    "\n",
    "```{solution-start} exercise5.2\n",
    ":class: dropdown\n",
    "```"
   ]
  },
  {
   "cell_type": "code",
   "execution_count": 26,
   "id": "086fa757",
   "metadata": {
    "tags": [
     "thebe-init"
    ]
   },
   "outputs": [
    {
     "name": "stdout",
     "output_type": "stream",
     "text": [
      "Element connecting:\n",
      "node #1:\n",
      " This node has:\n",
      " - x coordinate=0,\n",
      " - z coordinate=0,\n",
      " - degrees of freedom=[0, 1, 2],\n",
      " - load vector=[0. 0. 0.]\n",
      "with node #2:\n",
      " This node has:\n",
      " - x coordinate=1,\n",
      " - z coordinate=0,\n",
      " - degrees of freedom=[3, 4, 5],\n",
      " - load vector=[0. 0. 0.]\n"
     ]
    }
   ],
   "source": [
    "elem = mm.Element ( node1, node2 )\n",
    "\n",
    "EI = 1000\n",
    "section = {}\n",
    "section['EI'] = EI\n",
    "\n",
    "elem.set_section (section)\n",
    "print(elem)"
   ]
  },
  {
   "cell_type": "markdown",
   "id": "de3f1ffb",
   "metadata": {},
   "source": [
    "```{solution-end}\n",
    "```\n",
    "\n",
    "```{exercise-start} Workshop 1 - 5.3\n",
    ":label: exercise5.3\n",
    ":nonumber: true\n",
    "\n",
    "Set boundary conditions\n",
    "```"
   ]
  },
  {
   "cell_type": "code",
   "execution_count": null,
   "id": "9ea76d6c",
   "metadata": {},
   "outputs": [],
   "source": [
    "#YOUR CODE HERE"
   ]
  },
  {
   "cell_type": "markdown",
   "id": "a37dfcba",
   "metadata": {},
   "source": [
    "```{exercise-end}\n",
    "```\n",
    "\n",
    "```{solution-start} exercise5.3\n",
    ":class: dropdown\n",
    "```"
   ]
  },
  {
   "cell_type": "code",
   "execution_count": 27,
   "id": "8defad06",
   "metadata": {
    "tags": [
     "thebe-init"
    ]
   },
   "outputs": [
    {
     "name": "stdout",
     "output_type": "stream",
     "text": [
      "This constrainer has constrained the degrees of freedom: [0, 1, 2] with corresponding constrained values: [0, 0, 0])\n"
     ]
    }
   ],
   "source": [
    "con = mm.Constrainer()\n",
    "\n",
    "con.fix_node (node1)\n",
    "F  = 100\n",
    "node2.add_load ([0,F,0])\n",
    "print(con)"
   ]
  },
  {
   "cell_type": "markdown",
   "id": "30aae7b1",
   "metadata": {},
   "source": [
    "```{solution-end}\n",
    "```\n",
    "\n",
    "```{exercise-start} Workshop 1 - 5.4\n",
    ":label: exercise5.4\n",
    ":nonumber: true\n",
    "\n",
    "Assemble the system of equations.\n",
    "```"
   ]
  },
  {
   "cell_type": "code",
   "execution_count": null,
   "id": "a8394a51",
   "metadata": {},
   "outputs": [],
   "source": [
    "#YOUR CODE HERE"
   ]
  },
  {
   "cell_type": "markdown",
   "id": "dff33cb1",
   "metadata": {},
   "source": [
    "```{exercise-end}\n",
    "```\n",
    "\n",
    "```{solution-start} exercise5.4\n",
    ":class: dropdown\n",
    "```"
   ]
  },
  {
   "cell_type": "code",
   "execution_count": 28,
   "id": "4336711a",
   "metadata": {
    "tags": [
     "thebe-init"
    ]
   },
   "outputs": [],
   "source": [
    "global_k = elem.stiffness()\n",
    "global_f = np.zeros (6)\n",
    "\n",
    "global_f[0:3] = node1.p\n",
    "global_f[3:6] = node2.p"
   ]
  },
  {
   "cell_type": "markdown",
   "id": "247679b6",
   "metadata": {},
   "source": [
    "```{solution-end}\n",
    "```\n",
    "\n",
    "```{exercise-start} Workshop 1 - 5.5\n",
    ":label: exercise5.5\n",
    ":nonumber: true\n",
    "\n",
    "Constrain the problem and solve for nodal displacements\n",
    "```"
   ]
  },
  {
   "cell_type": "code",
   "execution_count": null,
   "id": "24ed8e16",
   "metadata": {},
   "outputs": [],
   "source": [
    "#YOUR CODE HERE"
   ]
  },
  {
   "cell_type": "markdown",
   "id": "de089f1b",
   "metadata": {},
   "source": [
    "```{exercise-end}\n",
    "```\n",
    "\n",
    "```{solution-start} exercise5.5\n",
    ":class: dropdown\n",
    "```"
   ]
  },
  {
   "cell_type": "code",
   "execution_count": 29,
   "id": "d49a59ab",
   "metadata": {
    "tags": [
     "thebe-init"
    ]
   },
   "outputs": [
    {
     "name": "stdout",
     "output_type": "stream",
     "text": [
      "[ 0.          0.03333333 -0.05      ]\n"
     ]
    }
   ],
   "source": [
    "Kff, Ff = con.constrain ( global_k, global_f )\n",
    "u = np.matmul ( np.linalg.inv(Kff), Ff )\n",
    "print(u)"
   ]
  },
  {
   "cell_type": "markdown",
   "id": "e23ffadc",
   "metadata": {},
   "source": [
    "```{solution-end}\n",
    "```\n",
    "\n",
    "```{exercise-start} Workshop 1 - 5.6\n",
    ":label: exercise5.6\n",
    ":nonumber: true\n",
    "\n",
    "Check with the analytical solution\n",
    "\n",
    "Did your solutions match? If so, your implementation is correct!\n",
    "```"
   ]
  },
  {
   "cell_type": "code",
   "execution_count": null,
   "id": "203fb5cb",
   "metadata": {},
   "outputs": [],
   "source": [
    "#EVENTUALLY YOUR CODE HERE"
   ]
  },
  {
   "cell_type": "markdown",
   "id": "50ee1b5b",
   "metadata": {},
   "source": [
    "```{exercise-end}\n",
    "```\n",
    "\n",
    "```{solution-start} exercise5.5\n",
    ":class: dropdown\n",
    "```\n",
    "\n",
    "The solution from a forget-me-not is $\\cfrac{FL^3}{3EI} = \\cfrac{100 \\cdot 1^3}{3\\cdot 1000} \\approx 0.0333$ for the deflection and $\\left|\\cfrac{FL^2}{2EI}\\right|= \\left|\\cfrac{100 \\cdot 1^2}{2\\cdot 1000}\\right| = 0.05$ for the rotation which equals the solution from the matrix method.\n",
    "\n",
    "```{solution-end}\n",
    "```"
   ]
  }
 ],
 "metadata": {
  "kernelspec": {
   "display_name": "base",
   "language": "python",
   "name": "python3"
  },
  "language_info": {
   "codemirror_mode": {
    "name": "ipython",
    "version": 3
   },
   "file_extension": ".py",
   "mimetype": "text/x-python",
   "name": "python",
   "nbconvert_exporter": "python",
   "pygments_lexer": "ipython3",
   "version": "3.9.18"
  }
 },
 "nbformat": 4,
 "nbformat_minor": 5
}
